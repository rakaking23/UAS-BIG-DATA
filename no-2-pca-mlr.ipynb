{
 "cells": [
  {
   "cell_type": "code",
   "execution_count": 1,
   "id": "8eef8a6d",
   "metadata": {
    "_cell_guid": "b1076dfc-b9ad-4769-8c92-a6c4dae69d19",
    "_uuid": "8f2839f25d086af736a60e9eeb907d3b93b6e0e5",
    "execution": {
     "iopub.execute_input": "2021-07-19T19:45:21.874586Z",
     "iopub.status.busy": "2021-07-19T19:45:21.873445Z",
     "iopub.status.idle": "2021-07-19T19:45:23.206778Z",
     "shell.execute_reply": "2021-07-19T19:45:23.207326Z",
     "shell.execute_reply.started": "2021-07-19T19:44:40.914468Z"
    },
    "papermill": {
     "duration": 1.356807,
     "end_time": "2021-07-19T19:45:23.207608",
     "exception": false,
     "start_time": "2021-07-19T19:45:21.850801",
     "status": "completed"
    },
    "tags": []
   },
   "outputs": [
    {
     "name": "stdout",
     "output_type": "stream",
     "text": [
      "/kaggle/input/uas-pca-mlr/UAS_PCA dan MLR.csv\n"
     ]
    }
   ],
   "source": [
    "import numpy as np \n",
    "import pandas as pd \n",
    "import matplotlib.pyplot as plt\n",
    "import seaborn as sns\n",
    "\n",
    "from sklearn.model_selection import train_test_split\n",
    "from sklearn.preprocessing import StandardScaler\n",
    "from sklearn.linear_model import LinearRegression\n",
    "from sklearn.metrics import confusion_matrix\n",
    "from matplotlib.colors import ListedColormap\n",
    "from sklearn.decomposition import PCA\n",
    "from sklearn.metrics import r2_score\n",
    "\n",
    "\n",
    "import os\n",
    "for dirname, _, filenames in os.walk('/kaggle/input'):\n",
    "    for filename in filenames:\n",
    "        print(os.path.join(dirname, filename))\n",
    "\n"
   ]
  },
  {
   "cell_type": "code",
   "execution_count": 2,
   "id": "bc19fef7",
   "metadata": {
    "execution": {
     "iopub.execute_input": "2021-07-19T19:45:23.248207Z",
     "iopub.status.busy": "2021-07-19T19:45:23.247565Z",
     "iopub.status.idle": "2021-07-19T19:45:23.255627Z",
     "shell.execute_reply": "2021-07-19T19:45:23.256153Z",
     "shell.execute_reply.started": "2021-07-19T19:44:40.928784Z"
    },
    "papermill": {
     "duration": 0.02957,
     "end_time": "2021-07-19T19:45:23.256324",
     "exception": false,
     "start_time": "2021-07-19T19:45:23.226754",
     "status": "completed"
    },
    "tags": []
   },
   "outputs": [
    {
     "data": {
      "text/plain": [
       "'1.2.4'"
      ]
     },
     "execution_count": 2,
     "metadata": {},
     "output_type": "execute_result"
    }
   ],
   "source": [
    "pd.__version__"
   ]
  },
  {
   "cell_type": "code",
   "execution_count": 3,
   "id": "1a26401c",
   "metadata": {
    "execution": {
     "iopub.execute_input": "2021-07-19T19:45:23.299247Z",
     "iopub.status.busy": "2021-07-19T19:45:23.298384Z",
     "iopub.status.idle": "2021-07-19T19:45:23.335052Z",
     "shell.execute_reply": "2021-07-19T19:45:23.335560Z",
     "shell.execute_reply.started": "2021-07-19T19:44:40.946063Z"
    },
    "papermill": {
     "duration": 0.060698,
     "end_time": "2021-07-19T19:45:23.335733",
     "exception": false,
     "start_time": "2021-07-19T19:45:23.275035",
     "status": "completed"
    },
    "tags": []
   },
   "outputs": [
    {
     "data": {
      "text/html": [
       "<div>\n",
       "<style scoped>\n",
       "    .dataframe tbody tr th:only-of-type {\n",
       "        vertical-align: middle;\n",
       "    }\n",
       "\n",
       "    .dataframe tbody tr th {\n",
       "        vertical-align: top;\n",
       "    }\n",
       "\n",
       "    .dataframe thead th {\n",
       "        text-align: right;\n",
       "    }\n",
       "</style>\n",
       "<table border=\"1\" class=\"dataframe\">\n",
       "  <thead>\n",
       "    <tr style=\"text-align: right;\">\n",
       "      <th></th>\n",
       "      <th>Customer ID</th>\n",
       "      <th>Umur</th>\n",
       "      <th>Income</th>\n",
       "      <th>Product_holding</th>\n",
       "      <th>Saving</th>\n",
       "      <th>Deposit</th>\n",
       "      <th>KK</th>\n",
       "      <th>Tab Bisnis</th>\n",
       "      <th>Limit Kredit Mortgage</th>\n",
       "      <th>Unnamed: 9</th>\n",
       "      <th>Unnamed: 10</th>\n",
       "      <th>Unnamed: 11</th>\n",
       "      <th>Unnamed: 12</th>\n",
       "    </tr>\n",
       "  </thead>\n",
       "  <tbody>\n",
       "    <tr>\n",
       "      <th>0</th>\n",
       "      <td>1234561175</td>\n",
       "      <td>27</td>\n",
       "      <td>41394951</td>\n",
       "      <td>3</td>\n",
       "      <td>31103129</td>\n",
       "      <td>22079895</td>\n",
       "      <td>856297</td>\n",
       "      <td>0</td>\n",
       "      <td>1614127575</td>\n",
       "      <td>1</td>\n",
       "      <td>1</td>\n",
       "      <td>1</td>\n",
       "      <td>0</td>\n",
       "    </tr>\n",
       "    <tr>\n",
       "      <th>1</th>\n",
       "      <td>1234561810</td>\n",
       "      <td>53</td>\n",
       "      <td>18694679</td>\n",
       "      <td>3</td>\n",
       "      <td>31860046</td>\n",
       "      <td>0</td>\n",
       "      <td>599572</td>\n",
       "      <td>17479146</td>\n",
       "      <td>5405279046</td>\n",
       "      <td>1</td>\n",
       "      <td>0</td>\n",
       "      <td>1</td>\n",
       "      <td>1</td>\n",
       "    </tr>\n",
       "    <tr>\n",
       "      <th>2</th>\n",
       "      <td>1234561778</td>\n",
       "      <td>52</td>\n",
       "      <td>30707209</td>\n",
       "      <td>2</td>\n",
       "      <td>29518052</td>\n",
       "      <td>0</td>\n",
       "      <td>2743516</td>\n",
       "      <td>0</td>\n",
       "      <td>3282684994</td>\n",
       "      <td>1</td>\n",
       "      <td>0</td>\n",
       "      <td>1</td>\n",
       "      <td>0</td>\n",
       "    </tr>\n",
       "    <tr>\n",
       "      <th>3</th>\n",
       "      <td>1234561915</td>\n",
       "      <td>40</td>\n",
       "      <td>33430719</td>\n",
       "      <td>4</td>\n",
       "      <td>14739021</td>\n",
       "      <td>18639840</td>\n",
       "      <td>4534694</td>\n",
       "      <td>18489681</td>\n",
       "      <td>1747615997</td>\n",
       "      <td>1</td>\n",
       "      <td>1</td>\n",
       "      <td>1</td>\n",
       "      <td>1</td>\n",
       "    </tr>\n",
       "    <tr>\n",
       "      <th>4</th>\n",
       "      <td>1234561363</td>\n",
       "      <td>55</td>\n",
       "      <td>37665545</td>\n",
       "      <td>2</td>\n",
       "      <td>5846797</td>\n",
       "      <td>0</td>\n",
       "      <td>0</td>\n",
       "      <td>11176695</td>\n",
       "      <td>5124778450</td>\n",
       "      <td>1</td>\n",
       "      <td>0</td>\n",
       "      <td>0</td>\n",
       "      <td>1</td>\n",
       "    </tr>\n",
       "  </tbody>\n",
       "</table>\n",
       "</div>"
      ],
      "text/plain": [
       "   Customer ID  Umur    Income  Product_holding    Saving   Deposit       KK  \\\n",
       "0   1234561175    27  41394951                3  31103129  22079895   856297   \n",
       "1   1234561810    53  18694679                3  31860046         0   599572   \n",
       "2   1234561778    52  30707209                2  29518052         0  2743516   \n",
       "3   1234561915    40  33430719                4  14739021  18639840  4534694   \n",
       "4   1234561363    55  37665545                2   5846797         0        0   \n",
       "\n",
       "   Tab Bisnis  Limit Kredit Mortgage  Unnamed: 9  Unnamed: 10  Unnamed: 11  \\\n",
       "0           0             1614127575           1            1            1   \n",
       "1    17479146             5405279046           1            0            1   \n",
       "2           0             3282684994           1            0            1   \n",
       "3    18489681             1747615997           1            1            1   \n",
       "4    11176695             5124778450           1            0            0   \n",
       "\n",
       "   Unnamed: 12  \n",
       "0            0  \n",
       "1            1  \n",
       "2            0  \n",
       "3            1  \n",
       "4            1  "
      ]
     },
     "execution_count": 3,
     "metadata": {},
     "output_type": "execute_result"
    }
   ],
   "source": [
    "data= pd.read_csv ('../input/uas-pca-mlr/UAS_PCA dan MLR.csv')\n",
    "data.head()"
   ]
  },
  {
   "cell_type": "code",
   "execution_count": 4,
   "id": "577ea7be",
   "metadata": {
    "execution": {
     "iopub.execute_input": "2021-07-19T19:45:23.378562Z",
     "iopub.status.busy": "2021-07-19T19:45:23.377591Z",
     "iopub.status.idle": "2021-07-19T19:45:23.395641Z",
     "shell.execute_reply": "2021-07-19T19:45:23.395155Z",
     "shell.execute_reply.started": "2021-07-19T19:44:40.974207Z"
    },
    "papermill": {
     "duration": 0.040572,
     "end_time": "2021-07-19T19:45:23.395790",
     "exception": false,
     "start_time": "2021-07-19T19:45:23.355218",
     "status": "completed"
    },
    "tags": []
   },
   "outputs": [
    {
     "data": {
      "text/html": [
       "<div>\n",
       "<style scoped>\n",
       "    .dataframe tbody tr th:only-of-type {\n",
       "        vertical-align: middle;\n",
       "    }\n",
       "\n",
       "    .dataframe tbody tr th {\n",
       "        vertical-align: top;\n",
       "    }\n",
       "\n",
       "    .dataframe thead th {\n",
       "        text-align: right;\n",
       "    }\n",
       "</style>\n",
       "<table border=\"1\" class=\"dataframe\">\n",
       "  <thead>\n",
       "    <tr style=\"text-align: right;\">\n",
       "      <th></th>\n",
       "      <th>Customer ID</th>\n",
       "      <th>Umur</th>\n",
       "      <th>Income</th>\n",
       "      <th>Product_holding</th>\n",
       "      <th>Saving</th>\n",
       "      <th>Deposit</th>\n",
       "      <th>KK</th>\n",
       "      <th>Tab Bisnis</th>\n",
       "      <th>Limit Kredit Mortgage</th>\n",
       "      <th>Unnamed: 9</th>\n",
       "      <th>Unnamed: 10</th>\n",
       "      <th>Unnamed: 11</th>\n",
       "      <th>Approved</th>\n",
       "    </tr>\n",
       "  </thead>\n",
       "  <tbody>\n",
       "    <tr>\n",
       "      <th>0</th>\n",
       "      <td>1234561175</td>\n",
       "      <td>27</td>\n",
       "      <td>41394951</td>\n",
       "      <td>3</td>\n",
       "      <td>31103129</td>\n",
       "      <td>22079895</td>\n",
       "      <td>856297</td>\n",
       "      <td>0</td>\n",
       "      <td>1614127575</td>\n",
       "      <td>1</td>\n",
       "      <td>1</td>\n",
       "      <td>1</td>\n",
       "      <td>0</td>\n",
       "    </tr>\n",
       "    <tr>\n",
       "      <th>1</th>\n",
       "      <td>1234561810</td>\n",
       "      <td>53</td>\n",
       "      <td>18694679</td>\n",
       "      <td>3</td>\n",
       "      <td>31860046</td>\n",
       "      <td>0</td>\n",
       "      <td>599572</td>\n",
       "      <td>17479146</td>\n",
       "      <td>5405279046</td>\n",
       "      <td>1</td>\n",
       "      <td>0</td>\n",
       "      <td>1</td>\n",
       "      <td>1</td>\n",
       "    </tr>\n",
       "    <tr>\n",
       "      <th>2</th>\n",
       "      <td>1234561778</td>\n",
       "      <td>52</td>\n",
       "      <td>30707209</td>\n",
       "      <td>2</td>\n",
       "      <td>29518052</td>\n",
       "      <td>0</td>\n",
       "      <td>2743516</td>\n",
       "      <td>0</td>\n",
       "      <td>3282684994</td>\n",
       "      <td>1</td>\n",
       "      <td>0</td>\n",
       "      <td>1</td>\n",
       "      <td>0</td>\n",
       "    </tr>\n",
       "    <tr>\n",
       "      <th>3</th>\n",
       "      <td>1234561915</td>\n",
       "      <td>40</td>\n",
       "      <td>33430719</td>\n",
       "      <td>4</td>\n",
       "      <td>14739021</td>\n",
       "      <td>18639840</td>\n",
       "      <td>4534694</td>\n",
       "      <td>18489681</td>\n",
       "      <td>1747615997</td>\n",
       "      <td>1</td>\n",
       "      <td>1</td>\n",
       "      <td>1</td>\n",
       "      <td>1</td>\n",
       "    </tr>\n",
       "    <tr>\n",
       "      <th>4</th>\n",
       "      <td>1234561363</td>\n",
       "      <td>55</td>\n",
       "      <td>37665545</td>\n",
       "      <td>2</td>\n",
       "      <td>5846797</td>\n",
       "      <td>0</td>\n",
       "      <td>0</td>\n",
       "      <td>11176695</td>\n",
       "      <td>5124778450</td>\n",
       "      <td>1</td>\n",
       "      <td>0</td>\n",
       "      <td>0</td>\n",
       "      <td>1</td>\n",
       "    </tr>\n",
       "  </tbody>\n",
       "</table>\n",
       "</div>"
      ],
      "text/plain": [
       "   Customer ID  Umur    Income  Product_holding    Saving   Deposit       KK  \\\n",
       "0   1234561175    27  41394951                3  31103129  22079895   856297   \n",
       "1   1234561810    53  18694679                3  31860046         0   599572   \n",
       "2   1234561778    52  30707209                2  29518052         0  2743516   \n",
       "3   1234561915    40  33430719                4  14739021  18639840  4534694   \n",
       "4   1234561363    55  37665545                2   5846797         0        0   \n",
       "\n",
       "   Tab Bisnis  Limit Kredit Mortgage  Unnamed: 9  Unnamed: 10  Unnamed: 11  \\\n",
       "0           0             1614127575           1            1            1   \n",
       "1    17479146             5405279046           1            0            1   \n",
       "2           0             3282684994           1            0            1   \n",
       "3    18489681             1747615997           1            1            1   \n",
       "4    11176695             5124778450           1            0            0   \n",
       "\n",
       "   Approved  \n",
       "0         0  \n",
       "1         1  \n",
       "2         0  \n",
       "3         1  \n",
       "4         1  "
      ]
     },
     "execution_count": 4,
     "metadata": {},
     "output_type": "execute_result"
    }
   ],
   "source": [
    "data.rename(columns={'Unnamed: 12':'Approved'}, inplace=True)\n",
    "data.head()"
   ]
  },
  {
   "cell_type": "code",
   "execution_count": 5,
   "id": "043e09dd",
   "metadata": {
    "execution": {
     "iopub.execute_input": "2021-07-19T19:45:23.442414Z",
     "iopub.status.busy": "2021-07-19T19:45:23.441256Z",
     "iopub.status.idle": "2021-07-19T19:45:23.444421Z",
     "shell.execute_reply": "2021-07-19T19:45:23.443909Z",
     "shell.execute_reply.started": "2021-07-19T19:44:40.994445Z"
    },
    "papermill": {
     "duration": 0.028568,
     "end_time": "2021-07-19T19:45:23.444589",
     "exception": false,
     "start_time": "2021-07-19T19:45:23.416021",
     "status": "completed"
    },
    "tags": []
   },
   "outputs": [],
   "source": [
    "del data['Unnamed: 9']"
   ]
  },
  {
   "cell_type": "code",
   "execution_count": 6,
   "id": "424a2f2b",
   "metadata": {
    "execution": {
     "iopub.execute_input": "2021-07-19T19:45:23.491532Z",
     "iopub.status.busy": "2021-07-19T19:45:23.490572Z",
     "iopub.status.idle": "2021-07-19T19:45:23.493972Z",
     "shell.execute_reply": "2021-07-19T19:45:23.493377Z",
     "shell.execute_reply.started": "2021-07-19T19:44:41.007209Z"
    },
    "papermill": {
     "duration": 0.02853,
     "end_time": "2021-07-19T19:45:23.494133",
     "exception": false,
     "start_time": "2021-07-19T19:45:23.465603",
     "status": "completed"
    },
    "tags": []
   },
   "outputs": [],
   "source": [
    "del data['Unnamed: 10']"
   ]
  },
  {
   "cell_type": "code",
   "execution_count": 7,
   "id": "5978e340",
   "metadata": {
    "execution": {
     "iopub.execute_input": "2021-07-19T19:45:23.543477Z",
     "iopub.status.busy": "2021-07-19T19:45:23.540640Z",
     "iopub.status.idle": "2021-07-19T19:45:23.552970Z",
     "shell.execute_reply": "2021-07-19T19:45:23.552297Z",
     "shell.execute_reply.started": "2021-07-19T19:44:41.021710Z"
    },
    "papermill": {
     "duration": 0.038559,
     "end_time": "2021-07-19T19:45:23.553113",
     "exception": false,
     "start_time": "2021-07-19T19:45:23.514554",
     "status": "completed"
    },
    "tags": []
   },
   "outputs": [
    {
     "data": {
      "text/html": [
       "<div>\n",
       "<style scoped>\n",
       "    .dataframe tbody tr th:only-of-type {\n",
       "        vertical-align: middle;\n",
       "    }\n",
       "\n",
       "    .dataframe tbody tr th {\n",
       "        vertical-align: top;\n",
       "    }\n",
       "\n",
       "    .dataframe thead th {\n",
       "        text-align: right;\n",
       "    }\n",
       "</style>\n",
       "<table border=\"1\" class=\"dataframe\">\n",
       "  <thead>\n",
       "    <tr style=\"text-align: right;\">\n",
       "      <th></th>\n",
       "      <th>Customer ID</th>\n",
       "      <th>Umur</th>\n",
       "      <th>Income</th>\n",
       "      <th>Product_holding</th>\n",
       "      <th>Saving</th>\n",
       "      <th>Deposit</th>\n",
       "      <th>KK</th>\n",
       "      <th>Tab Bisnis</th>\n",
       "      <th>Limit Kredit Mortgage</th>\n",
       "      <th>Approved</th>\n",
       "    </tr>\n",
       "  </thead>\n",
       "  <tbody>\n",
       "    <tr>\n",
       "      <th>0</th>\n",
       "      <td>1234561175</td>\n",
       "      <td>27</td>\n",
       "      <td>41394951</td>\n",
       "      <td>3</td>\n",
       "      <td>31103129</td>\n",
       "      <td>22079895</td>\n",
       "      <td>856297</td>\n",
       "      <td>0</td>\n",
       "      <td>1614127575</td>\n",
       "      <td>0</td>\n",
       "    </tr>\n",
       "    <tr>\n",
       "      <th>1</th>\n",
       "      <td>1234561810</td>\n",
       "      <td>53</td>\n",
       "      <td>18694679</td>\n",
       "      <td>3</td>\n",
       "      <td>31860046</td>\n",
       "      <td>0</td>\n",
       "      <td>599572</td>\n",
       "      <td>17479146</td>\n",
       "      <td>5405279046</td>\n",
       "      <td>1</td>\n",
       "    </tr>\n",
       "    <tr>\n",
       "      <th>2</th>\n",
       "      <td>1234561778</td>\n",
       "      <td>52</td>\n",
       "      <td>30707209</td>\n",
       "      <td>2</td>\n",
       "      <td>29518052</td>\n",
       "      <td>0</td>\n",
       "      <td>2743516</td>\n",
       "      <td>0</td>\n",
       "      <td>3282684994</td>\n",
       "      <td>0</td>\n",
       "    </tr>\n",
       "    <tr>\n",
       "      <th>3</th>\n",
       "      <td>1234561915</td>\n",
       "      <td>40</td>\n",
       "      <td>33430719</td>\n",
       "      <td>4</td>\n",
       "      <td>14739021</td>\n",
       "      <td>18639840</td>\n",
       "      <td>4534694</td>\n",
       "      <td>18489681</td>\n",
       "      <td>1747615997</td>\n",
       "      <td>1</td>\n",
       "    </tr>\n",
       "    <tr>\n",
       "      <th>4</th>\n",
       "      <td>1234561363</td>\n",
       "      <td>55</td>\n",
       "      <td>37665545</td>\n",
       "      <td>2</td>\n",
       "      <td>5846797</td>\n",
       "      <td>0</td>\n",
       "      <td>0</td>\n",
       "      <td>11176695</td>\n",
       "      <td>5124778450</td>\n",
       "      <td>1</td>\n",
       "    </tr>\n",
       "  </tbody>\n",
       "</table>\n",
       "</div>"
      ],
      "text/plain": [
       "   Customer ID  Umur    Income  Product_holding    Saving   Deposit       KK  \\\n",
       "0   1234561175    27  41394951                3  31103129  22079895   856297   \n",
       "1   1234561810    53  18694679                3  31860046         0   599572   \n",
       "2   1234561778    52  30707209                2  29518052         0  2743516   \n",
       "3   1234561915    40  33430719                4  14739021  18639840  4534694   \n",
       "4   1234561363    55  37665545                2   5846797         0        0   \n",
       "\n",
       "   Tab Bisnis  Limit Kredit Mortgage  Approved  \n",
       "0           0             1614127575         0  \n",
       "1    17479146             5405279046         1  \n",
       "2           0             3282684994         0  \n",
       "3    18489681             1747615997         1  \n",
       "4    11176695             5124778450         1  "
      ]
     },
     "execution_count": 7,
     "metadata": {},
     "output_type": "execute_result"
    }
   ],
   "source": [
    "del data['Unnamed: 11']\n",
    "data.head()"
   ]
  },
  {
   "cell_type": "code",
   "execution_count": 8,
   "id": "4bd05a19",
   "metadata": {
    "execution": {
     "iopub.execute_input": "2021-07-19T19:45:23.600439Z",
     "iopub.status.busy": "2021-07-19T19:45:23.599521Z",
     "iopub.status.idle": "2021-07-19T19:45:23.603785Z",
     "shell.execute_reply": "2021-07-19T19:45:23.603159Z",
     "shell.execute_reply.started": "2021-07-19T19:44:41.046149Z"
    },
    "papermill": {
     "duration": 0.030071,
     "end_time": "2021-07-19T19:45:23.603935",
     "exception": false,
     "start_time": "2021-07-19T19:45:23.573864",
     "status": "completed"
    },
    "tags": []
   },
   "outputs": [
    {
     "data": {
      "text/plain": [
       "(999, 10)"
      ]
     },
     "execution_count": 8,
     "metadata": {},
     "output_type": "execute_result"
    }
   ],
   "source": [
    "data.shape"
   ]
  },
  {
   "cell_type": "code",
   "execution_count": 9,
   "id": "bbcbf7e2",
   "metadata": {
    "execution": {
     "iopub.execute_input": "2021-07-19T19:45:23.649206Z",
     "iopub.status.busy": "2021-07-19T19:45:23.648231Z",
     "iopub.status.idle": "2021-07-19T19:45:23.666000Z",
     "shell.execute_reply": "2021-07-19T19:45:23.666541Z",
     "shell.execute_reply.started": "2021-07-19T19:44:41.167875Z"
    },
    "papermill": {
     "duration": 0.042092,
     "end_time": "2021-07-19T19:45:23.666722",
     "exception": false,
     "start_time": "2021-07-19T19:45:23.624630",
     "status": "completed"
    },
    "tags": []
   },
   "outputs": [
    {
     "name": "stdout",
     "output_type": "stream",
     "text": [
      "<class 'pandas.core.frame.DataFrame'>\n",
      "RangeIndex: 999 entries, 0 to 998\n",
      "Data columns (total 10 columns):\n",
      " #   Column                 Non-Null Count  Dtype\n",
      "---  ------                 --------------  -----\n",
      " 0   Customer ID            999 non-null    int64\n",
      " 1   Umur                   999 non-null    int64\n",
      " 2   Income                 999 non-null    int64\n",
      " 3   Product_holding        999 non-null    int64\n",
      " 4   Saving                 999 non-null    int64\n",
      " 5   Deposit                999 non-null    int64\n",
      " 6   KK                     999 non-null    int64\n",
      " 7   Tab Bisnis             999 non-null    int64\n",
      " 8   Limit Kredit Mortgage  999 non-null    int64\n",
      " 9   Approved               999 non-null    int64\n",
      "dtypes: int64(10)\n",
      "memory usage: 78.2 KB\n"
     ]
    }
   ],
   "source": [
    "data.info()"
   ]
  },
  {
   "cell_type": "code",
   "execution_count": 10,
   "id": "2f04e122",
   "metadata": {
    "execution": {
     "iopub.execute_input": "2021-07-19T19:45:23.712771Z",
     "iopub.status.busy": "2021-07-19T19:45:23.711801Z",
     "iopub.status.idle": "2021-07-19T19:45:23.719725Z",
     "shell.execute_reply": "2021-07-19T19:45:23.720263Z",
     "shell.execute_reply.started": "2021-07-19T19:44:41.185715Z"
    },
    "papermill": {
     "duration": 0.032586,
     "end_time": "2021-07-19T19:45:23.720432",
     "exception": false,
     "start_time": "2021-07-19T19:45:23.687846",
     "status": "completed"
    },
    "tags": []
   },
   "outputs": [
    {
     "data": {
      "text/plain": [
       "Customer ID              0\n",
       "Umur                     0\n",
       "Income                   0\n",
       "Product_holding          0\n",
       "Saving                   0\n",
       "Deposit                  0\n",
       "KK                       0\n",
       "Tab Bisnis               0\n",
       "Limit Kredit Mortgage    0\n",
       "Approved                 0\n",
       "dtype: int64"
      ]
     },
     "execution_count": 10,
     "metadata": {},
     "output_type": "execute_result"
    }
   ],
   "source": [
    "data.isna().sum()"
   ]
  },
  {
   "cell_type": "code",
   "execution_count": 11,
   "id": "755d5054",
   "metadata": {
    "execution": {
     "iopub.execute_input": "2021-07-19T19:45:23.766815Z",
     "iopub.status.busy": "2021-07-19T19:45:23.765844Z",
     "iopub.status.idle": "2021-07-19T19:45:23.944502Z",
     "shell.execute_reply": "2021-07-19T19:45:23.943852Z",
     "shell.execute_reply.started": "2021-07-19T19:44:41.201340Z"
    },
    "papermill": {
     "duration": 0.202944,
     "end_time": "2021-07-19T19:45:23.944649",
     "exception": false,
     "start_time": "2021-07-19T19:45:23.741705",
     "status": "completed"
    },
    "tags": []
   },
   "outputs": [
    {
     "data": {
      "text/plain": [
       "<AxesSubplot:>"
      ]
     },
     "execution_count": 11,
     "metadata": {},
     "output_type": "execute_result"
    },
    {
     "data": {
      "image/png": "[encoded data removed]",
      "text/plain": [
       "<Figure size 432x288 with 1 Axes>"
      ]
     },
     "metadata": {
      "needs_background": "light"
     },
     "output_type": "display_data"
    }
   ],
   "source": [
    "data['Approved'].value_counts().plot(kind = 'bar')"
   ]
  },
  {
   "cell_type": "code",
   "execution_count": null,
   "id": "540cb185",
   "metadata": {
    "papermill": {
     "duration": 0.022177,
     "end_time": "2021-07-19T19:45:23.989471",
     "exception": false,
     "start_time": "2021-07-19T19:45:23.967294",
     "status": "completed"
    },
    "tags": []
   },
   "outputs": [],
   "source": []
  },
  {
   "cell_type": "code",
   "execution_count": 12,
   "id": "15896434",
   "metadata": {
    "execution": {
     "iopub.execute_input": "2021-07-19T19:45:24.044203Z",
     "iopub.status.busy": "2021-07-19T19:45:24.043372Z",
     "iopub.status.idle": "2021-07-19T19:45:24.047428Z",
     "shell.execute_reply": "2021-07-19T19:45:24.046769Z",
     "shell.execute_reply.started": "2021-07-19T19:44:41.341839Z"
    },
    "papermill": {
     "duration": 0.035662,
     "end_time": "2021-07-19T19:45:24.047568",
     "exception": false,
     "start_time": "2021-07-19T19:45:24.011906",
     "status": "completed"
    },
    "tags": []
   },
   "outputs": [
    {
     "name": "stdout",
     "output_type": "stream",
     "text": [
      "[[1234561175         27   41394951 ...     856297          0 1614127575]\n",
      " [1234561810         53   18694679 ...     599572   17479146 5405279046]\n",
      " [1234561778         52   30707209 ...    2743516          0 3282684994]\n",
      " ...\n",
      " [1234561393         42   37730135 ...    3607066          0 5142559861]\n",
      " [1234561007         44   45789263 ...          0          0 2335293519]\n",
      " [1234561955         35   42060893 ...          0          0 5643750871]]\n",
      "[0 1 0 1 1 0 0 1 1 1 1 1 0 0 0 0 1 1 0 1 1 1 1 0 1 0 0 1 0 0 0 1 1 1 1 0 0\n",
      " 0 1 1 0 1 1 0 1 1 1 0 0 1 1 1 1 0 0 1 1 0 0 0 1 1 1 1 1 0 1 0 1 1 0 1 0 1\n",
      " 0 1 1 0 1 1 0 0 1 0 0 0 0 1 1 1 0 0 0 0 1 0 0 0 1 0 1 1 0 1 0 1 1 1 1 0 0\n",
      " 1 1 1 1 1 0 0 1 0 0 0 0 0 0 1 1 0 0 0 1 0 1 1 0 1 1 0 1 1 1 1 0 1 0 0 0 0\n",
      " 1 0 1 1 0 1 0 1 1 0 1 0 0 1 0 1 1 1 1 0 1 0 0 1 0 0 0 1 1 1 0 0 1 1 1 1 0\n",
      " 1 0 1 0 0 1 1 1 1 1 0 1 0 1 1 0 1 1 0 1 0 1 0 1 1 1 0 1 1 0 0 0 1 1 1 1 1\n",
      " 1 1 0 0 0 0 0 1 1 0 1 1 1 1 0 1 0 1 0 0 0 1 0 0 1 0 0 1 0 0 1 0 0 0 1 1 0\n",
      " 1 1 0 0 0 1 1 0 1 1 0 0 1 0 0 0 0 1 0 0 0 0 0 0 0 1 1 0 0 0 1 1 0 1 1 0 1\n",
      " 1 1 1 0 0 1 1 1 1 1 0 1 1 1 0 0 1 0 1 0 1 0 1 1 0 0 0 0 0 0 0 0 1 0 1 1 0\n",
      " 1 0 0 1 1 0 0 1 1 1 1 1 0 1 0 0 0 0 0 1 0 1 1 1 1 0 1 0 0 1 1 0 1 0 0 0 0\n",
      " 0 0 1 0 1 0 0 0 1 1 1 1 0 1 1 0 1 0 0 1 0 1 0 0 0 1 1 0 1 1 1 0 1 1 1 1 1\n",
      " 0 1 0 0 1 1 0 0 0 1 1 1 0 1 1 0 0 0 0 0 1 0 0 0 1 1 1 0 1 0 1 0 1 0 0 1 0\n",
      " 1 1 1 1 0 1 1 0 0 0 1 1 1 1 1 0 1 0 0 1 1 0 0 0 1 1 1 1 1 0 1 0 1 0 1 0 1\n",
      " 1 1 1 1 1 0 0 0 1 0 1 1 1 1 1 1 1 1 0 0 0 1 1 0 0 0 0 0 1 0 1 1 0 0 0 0 0\n",
      " 1 0 0 1 1 1 1 1 1 0 0 1 1 1 1 0 1 1 0 1 1 0 0 1 0 1 0 0 1 1 0 1 0 1 1 1 1\n",
      " 1 0 0 0 0 0 0 0 1 1 0 0 0 0 1 1 0 1 1 0 1 0 0 1 0 1 1 1 1 0 1 1 0 1 1 0 0\n",
      " 0 1 0 0 0 1 0 1 1 0 1 0 0 0 0 0 0 0 1 0 1 0 1 0 1 1 0 0 0 0 1 1 1 0 1 0 0\n",
      " 1 0 0 0 1 0 1 0 1 0 1 0 0 0 0 0 1 1 0 1 1 1 0 0 0 1 0 0 0 1 0 1 0 1 1 1 1\n",
      " 0 0 1 0 1 0 0 0 1 0 0 1 1 0 0 0 0 1 0 0 0 0 0 1 1 1 0 0 0 0 1 1 1 0 1 0 1\n",
      " 0 0 1 1 1 1 1 0 1 1 0 0 0 1 0 0 1 1 0 1 0 0 1 0 0 1 0 0 0 1 0 1 1 0 0 1 0\n",
      " 1 0 1 0 0 1 0 1 1 0 1 1 1 1 1 1 1 0 1 0 1 0 1 1 1 1 1 0 1 0 1 1 1 0 1 1 1\n",
      " 1 0 0 1 1 0 0 0 0 1 1 1 0 0 1 0 1 0 0 1 0 0 0 1 0 0 1 1 0 1 1 0 0 0 1 1 0\n",
      " 1 1 1 0 0 1 1 1 0 1 1 0 1 0 1 1 1 0 0 1 1 0 0 1 0 0 1 0 1 1 1 1 0 1 0 0 1\n",
      " 1 0 1 0 1 0 0 1 0 1 1 0 0 0 1 1 0 1 0 0 1 1 1 1 1 1 0 1 1 1 0 0 1 1 0 1 1\n",
      " 1 1 0 1 1 0 0 0 0 0 1 1 1 0 0 0 1 0 1 1 1 1 0 0 1 0 0 1 0 1 0 0 0 0 1 1 0\n",
      " 1 0 1 1 0 1 1 0 0 1 0 0 1 0 1 0 0 1 1 0 0 0 0 0 0 0 1 0 1 0 0 1 0 1 1 1 1\n",
      " 0 1 1 1 0 0 0 1 0 1 1 1 1 0 0 1 0 1 1 1 0 0 1 0 1 1 0 1 1 0 0 1 1 0 0 0 0]\n"
     ]
    }
   ],
   "source": [
    "x=data.drop(['Approved'],axis=1).values\n",
    "y=data['Approved'].values\n",
    "print (x)\n",
    "print (y)"
   ]
  },
  {
   "cell_type": "code",
   "execution_count": 13,
   "id": "9b50bc5d",
   "metadata": {
    "execution": {
     "iopub.execute_input": "2021-07-19T19:45:24.099624Z",
     "iopub.status.busy": "2021-07-19T19:45:24.098816Z",
     "iopub.status.idle": "2021-07-19T19:45:24.102453Z",
     "shell.execute_reply": "2021-07-19T19:45:24.101786Z",
     "shell.execute_reply.started": "2021-07-19T19:44:41.353301Z"
    },
    "papermill": {
     "duration": 0.032072,
     "end_time": "2021-07-19T19:45:24.102591",
     "exception": false,
     "start_time": "2021-07-19T19:45:24.070519",
     "status": "completed"
    },
    "tags": []
   },
   "outputs": [],
   "source": [
    "x_train, x_test, y_train, y_test = train_test_split(x, y, test_size = 0.3, random_state = 0)"
   ]
  },
  {
   "cell_type": "code",
   "execution_count": 14,
   "id": "4ea4d4c2",
   "metadata": {
    "execution": {
     "iopub.execute_input": "2021-07-19T19:45:24.154445Z",
     "iopub.status.busy": "2021-07-19T19:45:24.153517Z",
     "iopub.status.idle": "2021-07-19T19:45:24.157874Z",
     "shell.execute_reply": "2021-07-19T19:45:24.157364Z",
     "shell.execute_reply.started": "2021-07-19T19:44:41.369800Z"
    },
    "papermill": {
     "duration": 0.032263,
     "end_time": "2021-07-19T19:45:24.158025",
     "exception": false,
     "start_time": "2021-07-19T19:45:24.125762",
     "status": "completed"
    },
    "tags": []
   },
   "outputs": [],
   "source": [
    "sc = StandardScaler()\n",
    "x_train = sc.fit_transform(x_train)\n",
    "x_test = sc.transform(x_test)"
   ]
  },
  {
   "cell_type": "code",
   "execution_count": 15,
   "id": "c3c7d73c",
   "metadata": {
    "execution": {
     "iopub.execute_input": "2021-07-19T19:45:24.383544Z",
     "iopub.status.busy": "2021-07-19T19:45:24.340539Z",
     "iopub.status.idle": "2021-07-19T19:45:24.388764Z",
     "shell.execute_reply": "2021-07-19T19:45:24.389337Z",
     "shell.execute_reply.started": "2021-07-19T19:44:41.383223Z"
    },
    "papermill": {
     "duration": 0.208771,
     "end_time": "2021-07-19T19:45:24.389536",
     "exception": false,
     "start_time": "2021-07-19T19:45:24.180765",
     "status": "completed"
    },
    "tags": []
   },
   "outputs": [
    {
     "name": "stdout",
     "output_type": "stream",
     "text": [
      "[0.21342534 0.12775088 0.12054236 0.11490075 0.11029914 0.1048979\n",
      " 0.10075548 0.09273307 0.01469509]\n"
     ]
    }
   ],
   "source": [
    "pca = PCA(n_components =None)\n",
    "x_train = pca.fit_transform(x_train)\n",
    "x_test = pca.transform(x_test)\n",
    "hasil_variance = pca.explained_variance_ratio_\n",
    "print(hasil_variance)"
   ]
  },
  {
   "cell_type": "code",
   "execution_count": 16,
   "id": "23e39196",
   "metadata": {
    "execution": {
     "iopub.execute_input": "2021-07-19T19:45:24.443727Z",
     "iopub.status.busy": "2021-07-19T19:45:24.442979Z",
     "iopub.status.idle": "2021-07-19T19:45:24.449650Z",
     "shell.execute_reply": "2021-07-19T19:45:24.449074Z",
     "shell.execute_reply.started": "2021-07-19T19:44:41.399157Z"
    },
    "papermill": {
     "duration": 0.035328,
     "end_time": "2021-07-19T19:45:24.449813",
     "exception": false,
     "start_time": "2021-07-19T19:45:24.414485",
     "status": "completed"
    },
    "tags": []
   },
   "outputs": [
    {
     "name": "stdout",
     "output_type": "stream",
     "text": [
      "[0.21342534 0.12775088 0.12054236 0.11490075 0.11029914 0.1048979\n",
      " 0.10075548 0.09273307 0.01469509]\n"
     ]
    }
   ],
   "source": [
    "pca = PCA(n_components = 9)\n",
    "x_train = pca.fit_transform(x_train)\n",
    "x_test = pca.transform(x_test)\n",
    "hasil_variance2 = pca.explained_variance_ratio_\n",
    "print(hasil_variance2)"
   ]
  },
  {
   "cell_type": "code",
   "execution_count": 17,
   "id": "c03986bc",
   "metadata": {
    "execution": {
     "iopub.execute_input": "2021-07-19T19:45:24.509738Z",
     "iopub.status.busy": "2021-07-19T19:45:24.508738Z",
     "iopub.status.idle": "2021-07-19T19:45:24.514445Z",
     "shell.execute_reply": "2021-07-19T19:45:24.515145Z",
     "shell.execute_reply.started": "2021-07-19T19:44:41.412850Z"
    },
    "papermill": {
     "duration": 0.039247,
     "end_time": "2021-07-19T19:45:24.515484",
     "exception": false,
     "start_time": "2021-07-19T19:45:24.476237",
     "status": "completed"
    },
    "tags": []
   },
   "outputs": [
    {
     "data": {
      "text/plain": [
       "LinearRegression()"
      ]
     },
     "execution_count": 17,
     "metadata": {},
     "output_type": "execute_result"
    }
   ],
   "source": [
    "regressor = LinearRegression()\n",
    "regressor.fit(x_train, y_train)"
   ]
  },
  {
   "cell_type": "code",
   "execution_count": 18,
   "id": "e8fc2d22",
   "metadata": {
    "execution": {
     "iopub.execute_input": "2021-07-19T19:45:24.567273Z",
     "iopub.status.busy": "2021-07-19T19:45:24.566564Z",
     "iopub.status.idle": "2021-07-19T19:45:24.726845Z",
     "shell.execute_reply": "2021-07-19T19:45:24.727338Z",
     "shell.execute_reply.started": "2021-07-19T19:44:41.427414Z"
    },
    "papermill": {
     "duration": 0.187423,
     "end_time": "2021-07-19T19:45:24.727518",
     "exception": false,
     "start_time": "2021-07-19T19:45:24.540095",
     "status": "completed"
    },
    "tags": []
   },
   "outputs": [
    {
     "data": {
      "image/png": "[encoded data removed]",
      "text/plain": [
       "<Figure size 576x432 with 1 Axes>"
      ]
     },
     "metadata": {
      "needs_background": "light"
     },
     "output_type": "display_data"
    }
   ],
   "source": [
    "plt.figure(figsize=(8,6))\n",
    "plt.plot(np.cumsum(pca.explained_variance_ratio_))\n",
    "plt.xlim(0,14,1)\n",
    "plt.xlabel('Number of components')\n",
    "plt.ylabel('Cumulative explained variance')\n",
    "plt.show()"
   ]
  },
  {
   "cell_type": "code",
   "execution_count": 19,
   "id": "c7e5a9af",
   "metadata": {
    "execution": {
     "iopub.execute_input": "2021-07-19T19:45:24.780560Z",
     "iopub.status.busy": "2021-07-19T19:45:24.779853Z",
     "iopub.status.idle": "2021-07-19T19:45:24.788249Z",
     "shell.execute_reply": "2021-07-19T19:45:24.787182Z",
     "shell.execute_reply.started": "2021-07-19T19:44:41.597967Z"
    },
    "papermill": {
     "duration": 0.035817,
     "end_time": "2021-07-19T19:45:24.788449",
     "exception": false,
     "start_time": "2021-07-19T19:45:24.752632",
     "status": "completed"
    },
    "tags": []
   },
   "outputs": [
    {
     "name": "stdout",
     "output_type": "stream",
     "text": [
      "Intercept: 0.5164520743919886\n",
      "Coefficients: [ 0.22110903 -0.13186947  0.16566104 -0.06065416  0.0044657  -0.21738406\n",
      "  0.12452795 -0.17929674 -0.09258668]\n"
     ]
    }
   ],
   "source": [
    "print('Intercept:', regressor.intercept_)\n",
    "print('Coefficients:', regressor.coef_)"
   ]
  },
  {
   "cell_type": "code",
   "execution_count": 20,
   "id": "c712b9a4",
   "metadata": {
    "execution": {
     "iopub.execute_input": "2021-07-19T19:45:24.848876Z",
     "iopub.status.busy": "2021-07-19T19:45:24.848244Z",
     "iopub.status.idle": "2021-07-19T19:45:24.851142Z",
     "shell.execute_reply": "2021-07-19T19:45:24.851773Z",
     "shell.execute_reply.started": "2021-07-19T19:44:41.605908Z"
    },
    "papermill": {
     "duration": 0.037685,
     "end_time": "2021-07-19T19:45:24.851933",
     "exception": false,
     "start_time": "2021-07-19T19:45:24.814248",
     "status": "completed"
    },
    "tags": []
   },
   "outputs": [
    {
     "data": {
      "text/plain": [
       "array([ 9.86665431e-01, -1.36430003e-02,  6.95089917e-02,  4.23205098e-02,\n",
       "        9.15680968e-03,  1.01095170e+00,  1.16150223e+00, -6.04794563e-03,\n",
       "        9.37116354e-01,  1.12863688e+00, -2.05846550e-02,  1.21568267e+00,\n",
       "        9.57038351e-01,  1.26026883e-02,  1.05536663e-02,  6.58220411e-02,\n",
       "        1.32797436e-01,  8.93753996e-01,  1.05976122e+00,  9.54162622e-01,\n",
       "        1.13608240e-02,  9.38673795e-01,  1.11413768e+00,  7.90920530e-01,\n",
       "        9.02254273e-01,  3.57667997e-03,  4.31422068e-02,  8.11104238e-02,\n",
       "        9.85296906e-01,  1.00380587e+00,  9.58657398e-02,  4.89677082e-02,\n",
       "        1.09766902e+00,  8.09425950e-01,  1.22928441e+00,  1.21088834e+00,\n",
       "        1.13753182e+00,  1.17200924e+00, -1.00738547e-02,  5.01671781e-03,\n",
       "        1.32521110e-01, -1.56851605e-02, -3.71735066e-02,  1.14575246e+00,\n",
       "       -1.11061783e-02,  1.11898161e+00,  1.20213460e+00,  1.99854612e-03,\n",
       "       -3.15463651e-02,  8.95298483e-01,  1.84020735e-03,  1.23408590e+00,\n",
       "        7.85331472e-01,  1.20216573e+00,  9.37386541e-02, -6.99086017e-03,\n",
       "        1.02340540e+00,  9.65910821e-01,  6.16981983e-02,  2.16467159e-02,\n",
       "        8.43470347e-01,  8.26487266e-02,  5.62926402e-02,  3.26511310e-02,\n",
       "        9.45277609e-02,  7.77660164e-02,  8.69792521e-01,  7.37408996e-02,\n",
       "        1.03395087e+00,  2.40680711e-02,  1.21104568e+00,  1.09199432e+00,\n",
       "        9.82903941e-01,  8.85652021e-01,  9.48911446e-01,  9.91361301e-01,\n",
       "        3.79230620e-02,  9.04559647e-01,  8.79139357e-01,  8.62528687e-04,\n",
       "        8.14215441e-02,  6.86501630e-01,  5.78583050e-02, -1.16968887e-02,\n",
       "        7.17698602e-03, -2.18559124e-02,  1.22759903e+00,  9.13608443e-01,\n",
       "        1.84581310e-02,  1.11744892e+00,  8.60609164e-01, -3.45137512e-02,\n",
       "        9.38359008e-01,  9.53001925e-02,  9.37118487e-01,  6.98548958e-02,\n",
       "       -1.82434889e-02,  1.13784519e+00,  1.08344288e+00,  9.31257300e-02,\n",
       "        1.08692931e+00, -6.26222899e-03, -9.52060613e-03,  7.91483398e-01,\n",
       "        8.81411154e-01,  3.03678370e-02,  7.41792488e-03, -2.84102345e-02,\n",
       "        7.54942783e-01,  7.75639072e-03,  1.30173689e+00,  1.17653387e+00,\n",
       "        3.19163663e-03,  7.07428540e-01,  1.03375612e-02,  2.50930003e-02,\n",
       "        5.94349003e-02,  2.11040773e-02, -1.78678968e-03,  1.20519782e+00,\n",
       "        7.33296201e-01,  9.46737689e-01,  1.21328369e-02,  9.33135579e-01,\n",
       "        3.73861061e-03,  1.19623894e+00,  1.09770510e+00,  8.29131835e-01,\n",
       "        8.71721458e-02,  9.75738102e-01,  9.20879264e-01,  8.82383609e-02,\n",
       "        8.59960165e-02,  9.90247313e-01,  9.42043639e-01,  6.82970559e-01,\n",
       "        1.26441870e+00,  9.56848052e-01,  8.98303852e-01,  8.26419096e-01,\n",
       "        1.01348529e-02,  8.09311240e-02,  7.37294622e-01,  7.88186601e-01,\n",
       "        2.42786570e-02,  2.93100284e-04,  1.01546373e+00,  8.65361293e-01,\n",
       "        7.28579239e-02, -2.41466353e-03,  1.05306953e+00,  1.22402316e-01,\n",
       "        9.79748368e-01, -1.82057447e-02,  7.14281283e-02,  1.12735305e-02,\n",
       "        1.28651078e-01,  7.33695667e-01,  1.06134523e-02,  1.73300355e-02,\n",
       "        3.53610078e-02,  7.59492595e-01,  9.30565628e-01,  3.84189227e-03,\n",
       "        1.06295628e+00,  1.08249298e+00,  1.24750021e+00,  5.64730245e-03,\n",
       "       -6.46503682e-03, -1.22171685e-02,  8.24221463e-01,  9.72271461e-01,\n",
       "        6.77057390e-02,  8.22474132e-03,  7.14615752e-02,  8.46558035e-02,\n",
       "        1.20927549e+00,  7.86328418e-01,  8.25352408e-02,  7.16081427e-01,\n",
       "       -3.21953186e-02,  1.74654086e-02,  9.20110146e-01,  2.73557040e-03,\n",
       "        1.02158754e+00,  8.70903939e-03,  1.01684931e+00, -2.64256547e-02,\n",
       "        7.75727451e-01,  1.54841036e-02,  5.73918862e-02,  1.16548873e+00,\n",
       "        1.40867304e-01,  8.31160797e-01,  1.45315133e-02,  1.14560939e+00,\n",
       "       -1.17065628e-02,  1.03527610e+00,  1.03447410e+00,  8.85472334e-01,\n",
       "        4.63635531e-02,  1.07514540e-01,  1.37894033e-03,  1.01738640e+00,\n",
       "        7.58581539e-02,  1.39498383e-02,  1.03813584e+00,  7.02637879e-01,\n",
       "        1.81371568e-03, -3.54387339e-02,  4.99569165e-02,  5.93925750e-03,\n",
       "        9.67089650e-01, -2.28514328e-02,  8.51353641e-02,  1.00106033e+00,\n",
       "        2.19563870e-02,  2.36192464e-02,  1.70532585e-02,  1.08994373e+00,\n",
       "        9.53351662e-01,  1.93739634e-02,  7.42813531e-01, -2.98145742e-02,\n",
       "        1.09572116e+00,  8.63956194e-01, -2.44631388e-03,  7.28820900e-01,\n",
       "        2.62307836e-02,  9.10261986e-01,  1.04222607e+00, -1.48674372e-02,\n",
       "        7.85637095e-01,  1.10917976e+00,  4.05668720e-02, -1.52251278e-02,\n",
       "        9.44183081e-02, -9.26506451e-03,  8.79999303e-01,  1.70104846e-02,\n",
       "        8.91742525e-01,  2.68155758e-02,  7.83212900e-01,  8.32938982e-01,\n",
       "        8.38916298e-02,  9.23173887e-01,  9.06959738e-02,  3.38484070e-02,\n",
       "        1.23356683e+00,  8.18404440e-02,  7.32162911e-01,  9.44302922e-02,\n",
       "        1.15225583e+00,  7.12349107e-01,  9.76304464e-03,  1.17340651e+00,\n",
       "        9.89697840e-01,  9.66897777e-01,  1.32516747e-01, -6.41709639e-03,\n",
       "        9.92739006e-01,  7.41528698e-01,  1.08770158e-01,  8.43136906e-03,\n",
       "        1.71660344e-02,  6.57697205e-01,  1.10330025e+00,  7.88024276e-02,\n",
       "        2.58628143e-03,  9.88642604e-01,  4.99667065e-02,  1.06109805e+00,\n",
       "       -4.94520766e-02, -1.03408285e-02,  8.39280697e-01,  1.21958692e+00,\n",
       "        3.51914239e-03,  1.19218263e+00,  1.07171852e+00,  1.17232793e+00,\n",
       "       -2.29998078e-02,  9.06144746e-01,  9.32642376e-01, -1.16322022e-02,\n",
       "        1.14441693e-02,  9.27252062e-01,  9.11612170e-01,  1.39489775e-02,\n",
       "        8.54919415e-01,  1.15587858e+00,  9.34409449e-01, -9.48638334e-03,\n",
       "       -9.01649367e-03,  1.15275230e-03,  1.01905579e+00, -8.84601364e-03,\n",
       "        8.51306857e-01,  9.36783500e-01,  1.24571803e+00,  1.05501697e+00])"
      ]
     },
     "execution_count": 20,
     "metadata": {},
     "output_type": "execute_result"
    }
   ],
   "source": [
    "y_pred = regressor.predict(x_test)\n",
    "y_pred"
   ]
  },
  {
   "cell_type": "code",
   "execution_count": 21,
   "id": "1d0efe19",
   "metadata": {
    "execution": {
     "iopub.execute_input": "2021-07-19T19:45:24.905465Z",
     "iopub.status.busy": "2021-07-19T19:45:24.904854Z",
     "iopub.status.idle": "2021-07-19T19:45:24.910930Z",
     "shell.execute_reply": "2021-07-19T19:45:24.911500Z",
     "shell.execute_reply.started": "2021-07-19T19:44:41.631088Z"
    },
    "papermill": {
     "duration": 0.034277,
     "end_time": "2021-07-19T19:45:24.911662",
     "exception": false,
     "start_time": "2021-07-19T19:45:24.877385",
     "status": "completed"
    },
    "tags": []
   },
   "outputs": [
    {
     "data": {
      "text/plain": [
       "0.9462334191238582"
      ]
     },
     "execution_count": 21,
     "metadata": {},
     "output_type": "execute_result"
    }
   ],
   "source": [
    "score=r2_score(y_test,y_pred)\n",
    "score"
   ]
  }
 ],
 "metadata": {
  "kernelspec": {
   "display_name": "Python 3",
   "language": "python",
   "name": "python3"
  },
  "language_info": {
   "codemirror_mode": {
    "name": "ipython",
    "version": 3
   },
   "file_extension": ".py",
   "mimetype": "text/x-python",
   "name": "python",
   "nbconvert_exporter": "python",
   "pygments_lexer": "ipython3",
   "version": "3.7.10"
  },
  "papermill": {
   "default_parameters": {},
   "duration": 12.779256,
   "end_time": "2021-07-19T19:45:26.516090",
   "environment_variables": {},
   "exception": null,
   "input_path": "__notebook__.ipynb",
   "output_path": "__notebook__.ipynb",
   "parameters": {},
   "start_time": "2021-07-19T19:45:13.736834",
   "version": "2.3.3"
  }
 },
 "nbformat": 4,
 "nbformat_minor": 5
}
