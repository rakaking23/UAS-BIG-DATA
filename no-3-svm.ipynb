{
 "cells": [
  {
   "cell_type": "code",
   "execution_count": 1,
   "id": "60097b42",
   "metadata": {
    "_cell_guid": "b1076dfc-b9ad-4769-8c92-a6c4dae69d19",
    "_uuid": "8f2839f25d086af736a60e9eeb907d3b93b6e0e5",
    "execution": {
     "iopub.execute_input": "2021-07-19T20:26:56.604038Z",
     "iopub.status.busy": "2021-07-19T20:26:56.603554Z",
     "iopub.status.idle": "2021-07-19T20:26:58.016655Z",
     "shell.execute_reply": "2021-07-19T20:26:58.015236Z",
     "shell.execute_reply.started": "2021-07-19T20:19:41.370979Z"
    },
    "papermill": {
     "duration": 1.439448,
     "end_time": "2021-07-19T20:26:58.016861",
     "exception": false,
     "start_time": "2021-07-19T20:26:56.577413",
     "status": "completed"
    },
    "tags": []
   },
   "outputs": [
    {
     "name": "stdout",
     "output_type": "stream",
     "text": [
      "/kaggle/input/uas-svm/UAS_SVM.csv\n"
     ]
    }
   ],
   "source": [
    "import numpy as np \n",
    "import pandas as pd\n",
    "import matplotlib.pyplot as plt\n",
    "import seaborn as sns\n",
    "\n",
    "from sklearn.metrics import confusion_matrix,accuracy_score,classification_report\n",
    "from sklearn.model_selection import train_test_split\n",
    "from sklearn.preprocessing import StandardScaler\n",
    "from sklearn.metrics import r2_score\n",
    "from sklearn.svm import SVC\n",
    "\n",
    "import os\n",
    "for dirname, _, filenames in os.walk('/kaggle/input'):\n",
    "    for filename in filenames:\n",
    "        print(os.path.join(dirname, filename))"
   ]
  },
  {
   "cell_type": "code",
   "execution_count": 2,
   "id": "a69ef75e",
   "metadata": {
    "execution": {
     "iopub.execute_input": "2021-07-19T20:26:58.043493Z",
     "iopub.status.busy": "2021-07-19T20:26:58.042973Z",
     "iopub.status.idle": "2021-07-19T20:26:58.088978Z",
     "shell.execute_reply": "2021-07-19T20:26:58.089349Z",
     "shell.execute_reply.started": "2021-07-19T20:19:41.389393Z"
    },
    "papermill": {
     "duration": 0.060158,
     "end_time": "2021-07-19T20:26:58.089487",
     "exception": false,
     "start_time": "2021-07-19T20:26:58.029329",
     "status": "completed"
    },
    "tags": []
   },
   "outputs": [
    {
     "data": {
      "text/html": [
       "<div>\n",
       "<style scoped>\n",
       "    .dataframe tbody tr th:only-of-type {\n",
       "        vertical-align: middle;\n",
       "    }\n",
       "\n",
       "    .dataframe tbody tr th {\n",
       "        vertical-align: top;\n",
       "    }\n",
       "\n",
       "    .dataframe thead th {\n",
       "        text-align: right;\n",
       "    }\n",
       "</style>\n",
       "<table border=\"1\" class=\"dataframe\">\n",
       "  <thead>\n",
       "    <tr style=\"text-align: right;\">\n",
       "      <th></th>\n",
       "      <th>Customer ID</th>\n",
       "      <th>Age</th>\n",
       "      <th>Income</th>\n",
       "      <th>Education</th>\n",
       "      <th>Occupation</th>\n",
       "      <th>Income.1</th>\n",
       "      <th>Average Balance</th>\n",
       "      <th>Appraisal</th>\n",
       "      <th>Industri</th>\n",
       "      <th>Pelunasan Kredit</th>\n",
       "    </tr>\n",
       "  </thead>\n",
       "  <tbody>\n",
       "    <tr>\n",
       "      <th>0</th>\n",
       "      <td>1234561427</td>\n",
       "      <td>2</td>\n",
       "      <td>3</td>\n",
       "      <td>5</td>\n",
       "      <td>2</td>\n",
       "      <td>3</td>\n",
       "      <td>4</td>\n",
       "      <td>5</td>\n",
       "      <td>4</td>\n",
       "      <td>1</td>\n",
       "    </tr>\n",
       "    <tr>\n",
       "      <th>1</th>\n",
       "      <td>1234561518</td>\n",
       "      <td>1</td>\n",
       "      <td>4</td>\n",
       "      <td>3</td>\n",
       "      <td>3</td>\n",
       "      <td>5</td>\n",
       "      <td>1</td>\n",
       "      <td>3</td>\n",
       "      <td>1</td>\n",
       "      <td>0</td>\n",
       "    </tr>\n",
       "    <tr>\n",
       "      <th>2</th>\n",
       "      <td>1234561282</td>\n",
       "      <td>3</td>\n",
       "      <td>1</td>\n",
       "      <td>3</td>\n",
       "      <td>5</td>\n",
       "      <td>2</td>\n",
       "      <td>4</td>\n",
       "      <td>4</td>\n",
       "      <td>1</td>\n",
       "      <td>1</td>\n",
       "    </tr>\n",
       "    <tr>\n",
       "      <th>3</th>\n",
       "      <td>1234561064</td>\n",
       "      <td>5</td>\n",
       "      <td>1</td>\n",
       "      <td>3</td>\n",
       "      <td>1</td>\n",
       "      <td>3</td>\n",
       "      <td>2</td>\n",
       "      <td>4</td>\n",
       "      <td>1</td>\n",
       "      <td>0</td>\n",
       "    </tr>\n",
       "    <tr>\n",
       "      <th>4</th>\n",
       "      <td>1234561043</td>\n",
       "      <td>4</td>\n",
       "      <td>1</td>\n",
       "      <td>5</td>\n",
       "      <td>3</td>\n",
       "      <td>1</td>\n",
       "      <td>1</td>\n",
       "      <td>2</td>\n",
       "      <td>2</td>\n",
       "      <td>1</td>\n",
       "    </tr>\n",
       "    <tr>\n",
       "      <th>...</th>\n",
       "      <td>...</td>\n",
       "      <td>...</td>\n",
       "      <td>...</td>\n",
       "      <td>...</td>\n",
       "      <td>...</td>\n",
       "      <td>...</td>\n",
       "      <td>...</td>\n",
       "      <td>...</td>\n",
       "      <td>...</td>\n",
       "      <td>...</td>\n",
       "    </tr>\n",
       "    <tr>\n",
       "      <th>994</th>\n",
       "      <td>1234561069</td>\n",
       "      <td>4</td>\n",
       "      <td>4</td>\n",
       "      <td>1</td>\n",
       "      <td>1</td>\n",
       "      <td>5</td>\n",
       "      <td>1</td>\n",
       "      <td>4</td>\n",
       "      <td>1</td>\n",
       "      <td>1</td>\n",
       "    </tr>\n",
       "    <tr>\n",
       "      <th>995</th>\n",
       "      <td>1234561523</td>\n",
       "      <td>4</td>\n",
       "      <td>2</td>\n",
       "      <td>1</td>\n",
       "      <td>5</td>\n",
       "      <td>1</td>\n",
       "      <td>5</td>\n",
       "      <td>4</td>\n",
       "      <td>1</td>\n",
       "      <td>0</td>\n",
       "    </tr>\n",
       "    <tr>\n",
       "      <th>996</th>\n",
       "      <td>1234561056</td>\n",
       "      <td>2</td>\n",
       "      <td>2</td>\n",
       "      <td>3</td>\n",
       "      <td>3</td>\n",
       "      <td>2</td>\n",
       "      <td>2</td>\n",
       "      <td>5</td>\n",
       "      <td>1</td>\n",
       "      <td>0</td>\n",
       "    </tr>\n",
       "    <tr>\n",
       "      <th>997</th>\n",
       "      <td>1234561346</td>\n",
       "      <td>5</td>\n",
       "      <td>4</td>\n",
       "      <td>5</td>\n",
       "      <td>5</td>\n",
       "      <td>2</td>\n",
       "      <td>4</td>\n",
       "      <td>2</td>\n",
       "      <td>1</td>\n",
       "      <td>1</td>\n",
       "    </tr>\n",
       "    <tr>\n",
       "      <th>998</th>\n",
       "      <td>1234561813</td>\n",
       "      <td>2</td>\n",
       "      <td>3</td>\n",
       "      <td>1</td>\n",
       "      <td>3</td>\n",
       "      <td>4</td>\n",
       "      <td>1</td>\n",
       "      <td>4</td>\n",
       "      <td>2</td>\n",
       "      <td>1</td>\n",
       "    </tr>\n",
       "  </tbody>\n",
       "</table>\n",
       "<p>999 rows × 10 columns</p>\n",
       "</div>"
      ],
      "text/plain": [
       "     Customer ID  Age  Income  Education  Occupation  Income.1  \\\n",
       "0     1234561427    2       3          5           2         3   \n",
       "1     1234561518    1       4          3           3         5   \n",
       "2     1234561282    3       1          3           5         2   \n",
       "3     1234561064    5       1          3           1         3   \n",
       "4     1234561043    4       1          5           3         1   \n",
       "..           ...  ...     ...        ...         ...       ...   \n",
       "994   1234561069    4       4          1           1         5   \n",
       "995   1234561523    4       2          1           5         1   \n",
       "996   1234561056    2       2          3           3         2   \n",
       "997   1234561346    5       4          5           5         2   \n",
       "998   1234561813    2       3          1           3         4   \n",
       "\n",
       "     Average Balance  Appraisal  Industri  Pelunasan Kredit  \n",
       "0                  4          5         4                 1  \n",
       "1                  1          3         1                 0  \n",
       "2                  4          4         1                 1  \n",
       "3                  2          4         1                 0  \n",
       "4                  1          2         2                 1  \n",
       "..               ...        ...       ...               ...  \n",
       "994                1          4         1                 1  \n",
       "995                5          4         1                 0  \n",
       "996                2          5         1                 0  \n",
       "997                4          2         1                 1  \n",
       "998                1          4         2                 1  \n",
       "\n",
       "[999 rows x 10 columns]"
      ]
     },
     "execution_count": 2,
     "metadata": {},
     "output_type": "execute_result"
    }
   ],
   "source": [
    "data = pd.read_csv ('../input/uas-svm/UAS_SVM.csv')\n",
    "data"
   ]
  },
  {
   "cell_type": "code",
   "execution_count": 3,
   "id": "502a07fd",
   "metadata": {
    "execution": {
     "iopub.execute_input": "2021-07-19T20:26:58.132250Z",
     "iopub.status.busy": "2021-07-19T20:26:58.131717Z",
     "iopub.status.idle": "2021-07-19T20:26:58.134784Z",
     "shell.execute_reply": "2021-07-19T20:26:58.134332Z",
     "shell.execute_reply.started": "2021-07-19T20:19:41.495666Z"
    },
    "papermill": {
     "duration": 0.034438,
     "end_time": "2021-07-19T20:26:58.134889",
     "exception": false,
     "start_time": "2021-07-19T20:26:58.100451",
     "status": "completed"
    },
    "tags": []
   },
   "outputs": [
    {
     "name": "stdout",
     "output_type": "stream",
     "text": [
      "<class 'pandas.core.frame.DataFrame'>\n",
      "RangeIndex: 999 entries, 0 to 998\n",
      "Data columns (total 10 columns):\n",
      " #   Column            Non-Null Count  Dtype\n",
      "---  ------            --------------  -----\n",
      " 0   Customer ID       999 non-null    int64\n",
      " 1   Age               999 non-null    int64\n",
      " 2   Income            999 non-null    int64\n",
      " 3   Education         999 non-null    int64\n",
      " 4   Occupation        999 non-null    int64\n",
      " 5   Income.1          999 non-null    int64\n",
      " 6   Average Balance   999 non-null    int64\n",
      " 7   Appraisal         999 non-null    int64\n",
      " 8   Industri          999 non-null    int64\n",
      " 9   Pelunasan Kredit  999 non-null    int64\n",
      "dtypes: int64(10)\n",
      "memory usage: 78.2 KB\n"
     ]
    }
   ],
   "source": [
    "data.info()"
   ]
  },
  {
   "cell_type": "code",
   "execution_count": 4,
   "id": "942da5b2",
   "metadata": {
    "execution": {
     "iopub.execute_input": "2021-07-19T20:26:58.165237Z",
     "iopub.status.busy": "2021-07-19T20:26:58.164714Z",
     "iopub.status.idle": "2021-07-19T20:26:58.168637Z",
     "shell.execute_reply": "2021-07-19T20:26:58.169048Z",
     "shell.execute_reply.started": "2021-07-19T20:19:41.802383Z"
    },
    "papermill": {
     "duration": 0.022818,
     "end_time": "2021-07-19T20:26:58.169229",
     "exception": false,
     "start_time": "2021-07-19T20:26:58.146411",
     "status": "completed"
    },
    "tags": []
   },
   "outputs": [
    {
     "data": {
      "text/plain": [
       "Customer ID         0\n",
       "Age                 0\n",
       "Income              0\n",
       "Education           0\n",
       "Occupation          0\n",
       "Income.1            0\n",
       "Average Balance     0\n",
       "Appraisal           0\n",
       "Industri            0\n",
       "Pelunasan Kredit    0\n",
       "dtype: int64"
      ]
     },
     "execution_count": 4,
     "metadata": {},
     "output_type": "execute_result"
    }
   ],
   "source": [
    "data.isna().sum()"
   ]
  },
  {
   "cell_type": "code",
   "execution_count": 5,
   "id": "a979081e",
   "metadata": {
    "execution": {
     "iopub.execute_input": "2021-07-19T20:26:58.199374Z",
     "iopub.status.busy": "2021-07-19T20:26:58.198817Z",
     "iopub.status.idle": "2021-07-19T20:26:58.380195Z",
     "shell.execute_reply": "2021-07-19T20:26:58.379495Z",
     "shell.execute_reply.started": "2021-07-19T20:19:41.814138Z"
    },
    "papermill": {
     "duration": 0.198902,
     "end_time": "2021-07-19T20:26:58.380329",
     "exception": false,
     "start_time": "2021-07-19T20:26:58.181427",
     "status": "completed"
    },
    "tags": []
   },
   "outputs": [
    {
     "data": {
      "text/plain": [
       "<AxesSubplot:>"
      ]
     },
     "execution_count": 5,
     "metadata": {},
     "output_type": "execute_result"
    },
    {
     "data": {
      "image/png": "[encoded data removed]",
      "text/plain": [
       "<Figure size 432x288 with 1 Axes>"
      ]
     },
     "metadata": {
      "needs_background": "light"
     },
     "output_type": "display_data"
    }
   ],
   "source": [
    "data['Pelunasan Kredit'].value_counts().plot(kind = 'bar')"
   ]
  },
  {
   "cell_type": "code",
   "execution_count": 6,
   "id": "05c4b88e",
   "metadata": {
    "execution": {
     "iopub.execute_input": "2021-07-19T20:26:58.428628Z",
     "iopub.status.busy": "2021-07-19T20:26:58.424604Z",
     "iopub.status.idle": "2021-07-19T20:26:58.433116Z",
     "shell.execute_reply": "2021-07-19T20:26:58.433628Z",
     "shell.execute_reply.started": "2021-07-19T20:19:41.950108Z"
    },
    "papermill": {
     "duration": 0.034752,
     "end_time": "2021-07-19T20:26:58.433795",
     "exception": false,
     "start_time": "2021-07-19T20:26:58.399043",
     "status": "completed"
    },
    "tags": []
   },
   "outputs": [
    {
     "name": "stdout",
     "output_type": "stream",
     "text": [
      "[[1234561427          2          3 ...          4          5          4]\n",
      " [1234561518          1          4 ...          1          3          1]\n",
      " [1234561282          3          1 ...          4          4          1]\n",
      " ...\n",
      " [1234561056          2          2 ...          2          5          1]\n",
      " [1234561346          5          4 ...          4          2          1]\n",
      " [1234561813          2          3 ...          1          4          2]]\n",
      "[1 0 1 0 1 1 0 0 1 0 0 1 0 0 1 1 1 0 1 0 1 0 0 0 1 0 0 0 1 0 0 0 1 0 0 0 1\n",
      " 1 1 0 1 1 0 0 0 0 0 0 1 0 0 1 0 0 0 1 0 1 1 1 1 1 1 1 1 1 1 1 1 0 0 1 0 1\n",
      " 0 1 1 0 0 0 1 0 0 1 0 0 1 1 0 1 1 1 0 0 0 1 0 1 1 1 1 0 1 1 0 1 1 1 1 1 1\n",
      " 0 0 0 0 0 1 0 1 0 0 0 0 0 1 1 1 1 1 1 1 0 0 0 1 1 1 0 1 0 0 1 1 1 1 1 0 0\n",
      " 1 0 0 1 1 0 1 1 1 0 0 1 0 1 0 1 1 0 0 1 0 0 0 1 0 1 0 1 1 1 1 1 1 0 0 0 0\n",
      " 1 0 1 1 0 0 0 1 1 0 1 0 1 1 0 1 1 0 0 0 1 1 1 1 1 1 1 1 1 1 0 1 0 0 0 0 0\n",
      " 0 0 0 0 0 1 1 1 0 1 1 0 1 1 0 1 1 1 0 1 1 0 1 1 0 1 1 1 0 0 1 1 1 0 1 0 0\n",
      " 0 1 1 1 0 0 0 1 1 1 1 0 0 1 1 1 1 1 1 0 1 1 1 1 1 1 0 0 1 1 0 0 1 1 1 0 1\n",
      " 1 0 0 1 0 1 0 1 1 1 0 1 0 0 1 0 0 1 1 0 0 1 1 0 1 0 1 0 1 1 1 0 0 0 0 0 0\n",
      " 0 0 1 1 1 1 0 1 1 1 0 1 0 1 1 0 1 0 0 0 1 1 1 0 0 0 0 1 1 0 0 1 0 0 0 1 1\n",
      " 0 1 0 0 1 0 0 0 0 0 1 1 1 0 0 1 0 1 1 0 0 0 1 0 1 1 0 0 1 1 0 1 0 1 0 1 1\n",
      " 1 1 1 1 0 1 1 1 0 0 1 0 0 1 1 0 0 0 0 1 0 1 1 0 0 1 0 1 0 1 0 0 1 0 0 1 1\n",
      " 1 1 1 0 0 1 1 1 0 1 0 1 0 0 0 1 1 1 1 0 0 1 0 1 0 0 1 1 1 0 0 0 0 0 1 0 1\n",
      " 0 1 0 1 1 0 0 1 0 1 0 1 1 0 1 1 0 0 1 0 1 1 1 0 1 0 0 0 1 0 1 1 1 1 1 1 1\n",
      " 0 0 1 1 0 1 0 0 1 1 0 0 0 0 1 0 0 0 1 1 1 1 0 1 0 0 0 0 0 0 0 1 1 1 0 0 1\n",
      " 1 1 0 1 0 1 0 1 1 1 1 1 0 1 1 0 1 1 0 0 1 0 0 0 1 0 0 0 1 1 1 0 1 0 1 0 0\n",
      " 1 1 0 1 1 1 0 0 1 1 1 1 0 0 0 1 0 1 1 1 1 1 1 1 0 0 1 0 1 0 1 1 0 0 1 0 1\n",
      " 1 1 1 1 0 1 1 1 0 0 0 0 0 1 1 0 1 1 1 0 0 1 1 0 1 0 0 1 0 0 1 1 0 0 1 0 1\n",
      " 0 1 0 1 0 1 0 1 1 1 1 0 0 1 1 0 1 1 1 1 0 1 0 1 0 0 1 1 0 0 1 1 0 0 0 0 1\n",
      " 0 0 1 0 0 0 0 0 1 0 0 1 1 0 0 0 1 1 1 1 0 0 0 0 1 1 1 1 0 0 0 1 0 0 0 0 0\n",
      " 0 1 0 0 1 1 0 0 0 0 1 1 1 1 1 1 1 0 1 0 1 1 1 0 1 0 0 0 1 0 1 0 0 0 1 0 1\n",
      " 0 1 0 0 0 0 0 0 0 1 1 1 1 1 1 0 0 1 1 0 0 0 1 1 1 1 0 1 1 0 0 1 1 0 1 1 0\n",
      " 1 1 1 1 1 0 1 1 0 0 1 0 0 1 1 1 0 0 0 1 1 0 0 1 0 1 1 0 1 0 1 0 0 1 0 1 0\n",
      " 0 0 0 1 0 1 0 0 1 0 0 1 1 0 0 0 0 0 1 1 0 0 0 1 1 1 1 1 1 0 0 0 0 1 1 0 1\n",
      " 0 0 1 1 1 1 1 0 1 0 1 0 1 1 1 0 0 1 1 1 1 1 0 1 0 0 1 1 1 1 0 0 1 0 1 1 1\n",
      " 1 1 1 1 1 1 0 1 0 1 1 1 1 0 1 1 1 0 0 0 0 0 0 0 1 1 1 1 1 0 1 0 0 0 1 1 0\n",
      " 0 0 1 1 0 1 1 1 0 1 1 0 0 1 1 1 0 0 0 0 0 1 0 0 0 0 1 0 1 1 0 0 1 0 0 1 1]\n"
     ]
    }
   ],
   "source": [
    "x=data.drop(['Pelunasan Kredit'],axis=1).values\n",
    "y=data['Pelunasan Kredit'].values\n",
    "print (x)\n",
    "print (y)"
   ]
  },
  {
   "cell_type": "code",
   "execution_count": 7,
   "id": "8bb28fe4",
   "metadata": {
    "execution": {
     "iopub.execute_input": "2021-07-19T20:26:58.478649Z",
     "iopub.status.busy": "2021-07-19T20:26:58.478008Z",
     "iopub.status.idle": "2021-07-19T20:26:58.481758Z",
     "shell.execute_reply": "2021-07-19T20:26:58.482143Z",
     "shell.execute_reply.started": "2021-07-19T20:19:41.962897Z"
    },
    "papermill": {
     "duration": 0.02951,
     "end_time": "2021-07-19T20:26:58.482298",
     "exception": false,
     "start_time": "2021-07-19T20:26:58.452788",
     "status": "completed"
    },
    "tags": []
   },
   "outputs": [
    {
     "data": {
      "text/plain": [
       "((699, 9), (300, 9))"
      ]
     },
     "execution_count": 7,
     "metadata": {},
     "output_type": "execute_result"
    }
   ],
   "source": [
    "x_train,x_test,y_train,y_test=train_test_split(x,y,test_size=0.3,random_state=1)\n",
    "x_train.shape, x_test.shape"
   ]
  },
  {
   "cell_type": "code",
   "execution_count": 8,
   "id": "22cd975a",
   "metadata": {
    "execution": {
     "iopub.execute_input": "2021-07-19T20:26:58.513049Z",
     "iopub.status.busy": "2021-07-19T20:26:58.512456Z",
     "iopub.status.idle": "2021-07-19T20:26:58.517436Z",
     "shell.execute_reply": "2021-07-19T20:26:58.516966Z",
     "shell.execute_reply.started": "2021-07-19T20:19:41.979986Z"
    },
    "papermill": {
     "duration": 0.022489,
     "end_time": "2021-07-19T20:26:58.517548",
     "exception": false,
     "start_time": "2021-07-19T20:26:58.495059",
     "status": "completed"
    },
    "tags": []
   },
   "outputs": [],
   "source": [
    "sc = StandardScaler()\n",
    "x_train = sc.fit_transform(x_train)\n",
    "x_test = sc.transform(x_test)"
   ]
  },
  {
   "cell_type": "code",
   "execution_count": 9,
   "id": "88a09016",
   "metadata": {
    "execution": {
     "iopub.execute_input": "2021-07-19T20:26:58.550221Z",
     "iopub.status.busy": "2021-07-19T20:26:58.549121Z",
     "iopub.status.idle": "2021-07-19T20:26:58.651244Z",
     "shell.execute_reply": "2021-07-19T20:26:58.651830Z",
     "shell.execute_reply.started": "2021-07-19T20:19:41.991941Z"
    },
    "papermill": {
     "duration": 0.121153,
     "end_time": "2021-07-19T20:26:58.652019",
     "exception": false,
     "start_time": "2021-07-19T20:26:58.530866",
     "status": "completed"
    },
    "tags": []
   },
   "outputs": [
    {
     "data": {
      "text/plain": [
       "SVC(C=100, random_state=1)"
      ]
     },
     "execution_count": 9,
     "metadata": {},
     "output_type": "execute_result"
    }
   ],
   "source": [
    "svc = SVC(C=100, random_state=1, kernel='rbf')\n",
    "svc.fit(x_train, y_train)"
   ]
  },
  {
   "cell_type": "code",
   "execution_count": 10,
   "id": "eb4c82e0",
   "metadata": {
    "execution": {
     "iopub.execute_input": "2021-07-19T20:26:58.695922Z",
     "iopub.status.busy": "2021-07-19T20:26:58.695314Z",
     "iopub.status.idle": "2021-07-19T20:26:58.705112Z",
     "shell.execute_reply": "2021-07-19T20:26:58.703684Z",
     "shell.execute_reply.started": "2021-07-19T20:19:42.103070Z"
    },
    "papermill": {
     "duration": 0.033215,
     "end_time": "2021-07-19T20:26:58.705439",
     "exception": false,
     "start_time": "2021-07-19T20:26:58.672224",
     "status": "completed"
    },
    "tags": []
   },
   "outputs": [
    {
     "name": "stdout",
     "output_type": "stream",
     "text": [
      "[1 0 0 0 0 0 0 1 1 1 1 0 1 0 1 1 0 1 1 0 0 0 0 1 0 1 1 1 0 1 0 1 0 0 1 0 1\n",
      " 0 0 0 1 1 1 1 0 0 1 0 1 1 1 0 1 0 1 0 1 1 1 0 1 0 0 0 1 1 1 1 1 1 0 0 1 0\n",
      " 0 1 0 0 1 1 0 1 1 0 0 0 0 1 1 1 1 0 1 0 1 0 0 1 0 1 0 0 0 1 1 0 0 1 0 1 0\n",
      " 1 0 1 1 1 1 1 0 0 1 1 0 1 0 0 0 0 0 1 0 1 0 0 0 0 0 0 1 0 1 0 0 0 0 1 1 0\n",
      " 0 0 1 1 0 1 0 1 0 0 1 0 0 0 0 0 0 1 0 0 0 1 0 0 1 0 0 1 1 1 1 0 0 0 1 1 0\n",
      " 1 1 1 0 1 1 0 0 0 0 1 1 1 1 1 0 0 0 0 0 1 0 0 0 1 1 0 0 1 0 0 0 1 0 0 0 1\n",
      " 1 1 1 1 0 1 1 0 0 0 1 0 0 0 0 0 1 1 0 0 1 0 0 0 0 0 1 0 0 0 1 1 0 0 1 0 0\n",
      " 0 1 0 1 0 1 1 0 1 0 1 1 1 0 0 1 0 1 0 0 0 1 0 1 1 1 1 1 1 0 1 0 1 1 1 1 1\n",
      " 1 0 0 0]\n"
     ]
    }
   ],
   "source": [
    "y_predict = svc.predict(x_test)\n",
    "print (y_predict)"
   ]
  },
  {
   "cell_type": "code",
   "execution_count": 11,
   "id": "aa9b8a29",
   "metadata": {
    "execution": {
     "iopub.execute_input": "2021-07-19T20:26:58.752547Z",
     "iopub.status.busy": "2021-07-19T20:26:58.751891Z",
     "iopub.status.idle": "2021-07-19T20:26:58.755881Z",
     "shell.execute_reply": "2021-07-19T20:26:58.755275Z",
     "shell.execute_reply.started": "2021-07-19T20:24:19.876734Z"
    },
    "papermill": {
     "duration": 0.029283,
     "end_time": "2021-07-19T20:26:58.756006",
     "exception": false,
     "start_time": "2021-07-19T20:26:58.726723",
     "status": "completed"
    },
    "tags": []
   },
   "outputs": [
    {
     "data": {
      "text/plain": [
       "-0.8231377630814607"
      ]
     },
     "execution_count": 11,
     "metadata": {},
     "output_type": "execute_result"
    }
   ],
   "source": [
    "score=r2_score(y_test,y_predict)\n",
    "score"
   ]
  },
  {
   "cell_type": "code",
   "execution_count": 12,
   "id": "6fe7b9dd",
   "metadata": {
    "execution": {
     "iopub.execute_input": "2021-07-19T20:26:58.802242Z",
     "iopub.status.busy": "2021-07-19T20:26:58.801590Z",
     "iopub.status.idle": "2021-07-19T20:26:58.804151Z",
     "shell.execute_reply": "2021-07-19T20:26:58.803700Z",
     "shell.execute_reply.started": "2021-07-19T20:23:50.722185Z"
    },
    "papermill": {
     "duration": 0.02748,
     "end_time": "2021-07-19T20:26:58.804296",
     "exception": false,
     "start_time": "2021-07-19T20:26:58.776816",
     "status": "completed"
    },
    "tags": []
   },
   "outputs": [],
   "source": [
    "from sklearn.svm import SVC\n",
    "from sklearn import metrics\n",
    "svm_model= SVC()"
   ]
  },
  {
   "cell_type": "code",
   "execution_count": 13,
   "id": "c852365d",
   "metadata": {
    "execution": {
     "iopub.execute_input": "2021-07-19T20:26:58.836261Z",
     "iopub.status.busy": "2021-07-19T20:26:58.835775Z",
     "iopub.status.idle": "2021-07-19T20:26:58.853081Z",
     "shell.execute_reply": "2021-07-19T20:26:58.852542Z",
     "shell.execute_reply.started": "2021-07-19T20:23:54.118500Z"
    },
    "papermill": {
     "duration": 0.03476,
     "end_time": "2021-07-19T20:26:58.853213",
     "exception": false,
     "start_time": "2021-07-19T20:26:58.818453",
     "status": "completed"
    },
    "tags": []
   },
   "outputs": [
    {
     "name": "stdout",
     "output_type": "stream",
     "text": [
      "0.5466666666666666\n"
     ]
    }
   ],
   "source": [
    "y_predict= svc.predict(x_test)\n",
    "print(metrics.accuracy_score(y_predict,y_test))"
   ]
  },
  {
   "cell_type": "code",
   "execution_count": 14,
   "id": "55f1befa",
   "metadata": {
    "execution": {
     "iopub.execute_input": "2021-07-19T20:26:58.889053Z",
     "iopub.status.busy": "2021-07-19T20:26:58.885951Z",
     "iopub.status.idle": "2021-07-19T20:26:58.897866Z",
     "shell.execute_reply": "2021-07-19T20:26:58.897356Z",
     "shell.execute_reply.started": "2021-07-19T20:19:42.269353Z"
    },
    "papermill": {
     "duration": 0.030554,
     "end_time": "2021-07-19T20:26:58.897979",
     "exception": false,
     "start_time": "2021-07-19T20:26:58.867425",
     "status": "completed"
    },
    "tags": []
   },
   "outputs": [],
   "source": [
    "cm = confusion_matrix(y_test, y_predict)\n",
    "ac = accuracy_score (y_test,y_predict)\n",
    "cr = classification_report (y_test,y_predict)"
   ]
  },
  {
   "cell_type": "code",
   "execution_count": 15,
   "id": "f82f5792",
   "metadata": {
    "execution": {
     "iopub.execute_input": "2021-07-19T20:26:58.962192Z",
     "iopub.status.busy": "2021-07-19T20:26:58.951092Z",
     "iopub.status.idle": "2021-07-19T20:26:59.143687Z",
     "shell.execute_reply": "2021-07-19T20:26:59.143226Z",
     "shell.execute_reply.started": "2021-07-19T20:19:42.282354Z"
    },
    "papermill": {
     "duration": 0.231436,
     "end_time": "2021-07-19T20:26:59.143820",
     "exception": false,
     "start_time": "2021-07-19T20:26:58.912384",
     "status": "completed"
    },
    "tags": []
   },
   "outputs": [
    {
     "data": {
      "image/png": "[encoded data removed]",
      "text/plain": [
       "<Figure size 576x360 with 2 Axes>"
      ]
     },
     "metadata": {
      "needs_background": "light"
     },
     "output_type": "display_data"
    },
    {
     "name": "stdout",
     "output_type": "stream",
     "text": [
      "0.5466666666666666\n",
      "              precision    recall  f1-score   support\n",
      "\n",
      "           0       0.51      0.59      0.55       139\n",
      "           1       0.59      0.51      0.55       161\n",
      "\n",
      "    accuracy                           0.55       300\n",
      "   macro avg       0.55      0.55      0.55       300\n",
      "weighted avg       0.55      0.55      0.55       300\n",
      "\n"
     ]
    }
   ],
   "source": [
    "f, ax = plt.subplots(figsize=(8,5))\n",
    "sns.heatmap(confusion_matrix(y_test, y_predict), annot=True, fmt=\".0f\", ax=ax)\n",
    "plt.xlabel(\"predicted label\")\n",
    "plt.ylabel(\"actual label\")\n",
    "plt.show()\n",
    "\n",
    "print (ac)\n",
    "print (cr)"
   ]
  }
 ],
 "metadata": {
  "kernelspec": {
   "display_name": "Python 3",
   "language": "python",
   "name": "python3"
  },
  "language_info": {
   "codemirror_mode": {
    "name": "ipython",
    "version": 3
   },
   "file_extension": ".py",
   "mimetype": "text/x-python",
   "name": "python",
   "nbconvert_exporter": "python",
   "pygments_lexer": "ipython3",
   "version": "3.7.10"
  },
  "papermill": {
   "default_parameters": {},
   "duration": 12.581762,
   "end_time": "2021-07-19T20:27:00.067584",
   "environment_variables": {},
   "exception": null,
   "input_path": "__notebook__.ipynb",
   "output_path": "__notebook__.ipynb",
   "parameters": {},
   "start_time": "2021-07-19T20:26:47.485822",
   "version": "2.3.3"
  }
 },
 "nbformat": 4,
 "nbformat_minor": 5
}
